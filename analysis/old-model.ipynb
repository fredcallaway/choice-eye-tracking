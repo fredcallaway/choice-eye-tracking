{
 "cells": [
  {
   "cell_type": "code",
   "execution_count": null,
   "metadata": {},
   "outputs": [],
   "source": [
    "%matplotlib inline\n",
    "%load_ext autoreload\n",
    "%autoreload 2\n",
    "\n",
    "import matplotlib.pyplot as plt\n",
    "import numpy as np\n",
    "import pandas as pd\n",
    "import seaborn as sns\n",
    "\n",
    "sns.set_context('notebook', font_scale=1.3)\n",
    "sns.set_palette('tab10')\n",
    "sns.set_style('white')"
   ]
  },
  {
   "cell_type": "code",
   "execution_count": 33,
   "metadata": {},
   "outputs": [],
   "source": [
    "from glob import glob\n",
    "import json\n",
    "def rows():\n",
    "    for fn in glob('../julia/runs/dingo/results/matched_rollouts*'):\n",
    "        with open(fn) as f:\n",
    "            d = json.load(f)\n",
    "            for roll in d['matched_rollouts']:\n",
    "                roll.update(d['params'])\n",
    "                yield roll\n",
    "df = pd.DataFrame(rows())"
   ]
  },
  {
   "cell_type": "code",
   "execution_count": 34,
   "metadata": {},
   "outputs": [],
   "source": [
    "df['n_step'] = df.focused.apply(len)\n",
    "df_value = np.stack(df.value)\n",
    "df['value_max'] = df_value.max(1)\n",
    "df['value_mean'] = df_value.mean(1)\n",
    "df['value_std'] = df_value.std(1)\n",
    "df['choice_value'] = df_value[np.arange(len(df)), df.choice.values - 1]"
   ]
  },
  {
   "cell_type": "code",
   "execution_count": 35,
   "metadata": {},
   "outputs": [],
   "source": [
    "cutoff = df.n_step.quantile(0.99)\n",
    "df = df.query('n_step < @cutoff').copy()\n",
    "df['loss'] = df.value_max - df.choice_value\n",
    "df['error'] = df.loss > 0\n",
    "df['n_fix'] = df.focused.apply(lambda x: np.sum(np.diff(x) != 0) + 1)\n",
    "\n",
    "import statsmodels.formula.api as smf\n",
    "def ols(formula):\n",
    "    return smf.ols(formula, data=df).fit().summary().tables[1]"
   ]
  },
  {
   "cell_type": "code",
   "execution_count": 66,
   "metadata": {},
   "outputs": [],
   "source": [
    "belief = np.stack(df.belief)"
   ]
  },
  {
   "cell_type": "code",
   "execution_count": 91,
   "metadata": {},
   "outputs": [
    {
     "name": "stderr",
     "output_type": "stream",
     "text": [
      "/usr/local/lib/miniconda3/lib/python3.6/site-packages/scipy/stats/stats.py:1713: FutureWarning: Using a non-tuple sequence for multidimensional indexing is deprecated; use `arr[tuple(seq)]` instead of `arr[seq]`. In the future this will be interpreted as an array index, `arr[np.array(seq)]`, which will result either in an error or a different result.\n",
      "  return np.add.reduce(sorted[indexer] * weights, axis=axis) / sumval\n"
     ]
    },
    {
     "data": {
      "text/plain": [
       "<matplotlib.axes._subplots.AxesSubplot at 0x11fd74240>"
      ]
     },
     "execution_count": 91,
     "metadata": {},
     "output_type": "execute_result"
    },
    {
     "data": {
      "image/png": "[encoded data removed]",
      "text/plain": [
       "<Figure size 432x288 with 1 Axes>"
      ]
     },
     "metadata": {},
     "output_type": "display_data"
    }
   ],
   "source": [
    "sns.distplot(belief.min(1))"
   ]
  },
  {
   "cell_type": "code",
   "execution_count": 90,
   "metadata": {},
   "outputs": [
    {
     "name": "stdout",
     "output_type": "stream",
     "text": [
      "-0.8584773408483818\n",
      "0.1937311144433174\n"
     ]
    }
   ],
   "source": [
    "neg = (belief < 0).all(1)\n",
    "pos = (belief > 0).all(1)\n",
    "print(belief[neg].min(1).mean())\n",
    "print(belief[pos].min(1).mean())"
   ]
  },
  {
   "cell_type": "code",
   "execution_count": 132,
   "metadata": {},
   "outputs": [],
   "source": [
    "value = np.stack(df.value)\n",
    "\n",
    "df['negative'] = (value < 0).all(1)\n",
    "df['positive'] = (value > 0).all(1)"
   ]
  },
  {
   "cell_type": "code",
   "execution_count": 139,
   "metadata": {},
   "outputs": [
    {
     "data": {
      "text/html": [
       "<table class=\"simpletable\">\n",
       "<tr>\n",
       "       <td></td>         <th>coef</th>     <th>std err</th>      <th>t</th>      <th>P>|t|</th>  <th>[0.025</th>    <th>0.975]</th>  \n",
       "</tr>\n",
       "<tr>\n",
       "  <th>Intercept</th>  <td>    0.8135</td> <td>    0.001</td> <td>  668.026</td> <td> 0.000</td> <td>    0.811</td> <td>    0.816</td>\n",
       "</tr>\n",
       "<tr>\n",
       "  <th>value_mean</th> <td>    0.2465</td> <td>    0.002</td> <td>   98.901</td> <td> 0.000</td> <td>    0.242</td> <td>    0.251</td>\n",
       "</tr>\n",
       "</table>"
      ],
      "text/plain": [
       "<class 'statsmodels.iolib.table.SimpleTable'>"
      ]
     },
     "execution_count": 139,
     "metadata": {},
     "output_type": "execute_result"
    }
   ],
   "source": [
    "ols('value_std ~ value_mean')"
   ]
  },
  {
   "cell_type": "code",
   "execution_count": 143,
   "metadata": {},
   "outputs": [
    {
     "data": {
      "text/plain": [
       "0        2\n",
       "1        2\n",
       "2        2\n",
       "3        2\n",
       "4        2\n",
       "5        2\n",
       "6        2\n",
       "7        2\n",
       "8        2\n",
       "9        2\n",
       "10       2\n",
       "11       2\n",
       "12       2\n",
       "13       2\n",
       "14       2\n",
       "15       2\n",
       "16       2\n",
       "17       2\n",
       "18       2\n",
       "19       2\n",
       "20       2\n",
       "21       2\n",
       "22       2\n",
       "23       2\n",
       "24       2\n",
       "25       2\n",
       "26       2\n",
       "27       2\n",
       "28       2\n",
       "29       2\n",
       "        ..\n",
       "59288    2\n",
       "59290    2\n",
       "59291    2\n",
       "59292    2\n",
       "59293    2\n",
       "59295    2\n",
       "59296    2\n",
       "59297    2\n",
       "59298    2\n",
       "59299    2\n",
       "59300    2\n",
       "59301    2\n",
       "59302    2\n",
       "59303    2\n",
       "59304    2\n",
       "59305    2\n",
       "59306    2\n",
       "59307    2\n",
       "59308    2\n",
       "59309    2\n",
       "59310    2\n",
       "59311    2\n",
       "59312    2\n",
       "59313    2\n",
       "59314    2\n",
       "59315    2\n",
       "59316    2\n",
       "59317    2\n",
       "59318    2\n",
       "59319    2\n",
       "Name: belief, Length: 57748, dtype: int64"
      ]
     },
     "execution_count": 143,
     "metadata": {},
     "output_type": "execute_result"
    }
   ],
   "source": [
    "df.belief.apply(len)"
   ]
  },
  {
   "cell_type": "code",
   "execution_count": 118,
   "metadata": {},
   "outputs": [
    {
     "name": "stdout",
     "output_type": "stream",
     "text": [
      "==============================================================================\n",
      "                 coef    std err          t      P>|t|      [0.025      0.975]\n",
      "------------------------------------------------------------------------------\n",
      "Intercept     22.4063      0.129    173.631      0.000      22.153      22.659\n",
      "value_max     -1.5951      0.104    -15.390      0.000      -1.798      -1.392\n",
      "==============================================================================\n"
     ]
    }
   ],
   "source": [
    "def zscore(x):\n",
    "    x = x - x.mean()\n",
    "    x /= x.std()\n",
    "    return x\n",
    "    \n",
    "print(ols('n_step ~ value_max'))"
   ]
  },
  {
   "cell_type": "markdown",
   "metadata": {},
   "source": [
    "# Compare parameters"
   ]
  },
  {
   "cell_type": "code",
   "execution_count": 6,
   "metadata": {},
   "outputs": [],
   "source": [
    "grp = df.groupby(['obs_sigma', 'sample_cost', 'switch_cost', 'seed'])[['n_step', 'reward', 'n_fix', 'choice_value']].mean()"
   ]
  },
  {
   "cell_type": "code",
   "execution_count": 1,
   "metadata": {},
   "outputs": [],
   "source": [
    "# sns.catplot('obs_sigma', 'choice_value', row='sample_cost', col='switch_cost', data=grp.reset_index())"
   ]
  },
  {
   "cell_type": "markdown",
   "metadata": {},
   "source": [
    "# Choose Parameters"
   ]
  },
  {
   "cell_type": "code",
   "execution_count": 43,
   "metadata": {},
   "outputs": [],
   "source": [
    "hdf = pd.read_pickle('data/human_trials')\n",
    "import h5py\n",
    "hf = h5py.File('../data.h5')\n",
    "value = np.array(hf.get('values'))\n",
    "hf.close()\n",
    "assert np.all(hdf.max_value == value.max(1))\n",
    "\n",
    "from utils import Labeler\n",
    "labeler = Labeler()\n",
    "hdf['trial'] = [labeler(tuple(x)) for x in value]\n",
    "df['trial'] = [labeler(tuple(x)) for x in df.value]\n",
    "\n",
    "cutoff = hdf.rt.quantile(0.99)\n",
    "drop = hdf.rt > cutoff\n",
    "hdf = hdf.loc[~drop]"
   ]
  },
  {
   "cell_type": "code",
   "execution_count": 44,
   "metadata": {},
   "outputs": [
    {
     "name": "stdout",
     "output_type": "stream",
     "text": [
      "obs_sigma [3.0, 5.0, 8.0]\n",
      "sample_cost [0.001, 0.002, 0.003]\n",
      "switch_cost [2.0, 3.0, 4.0, 8.0]\n"
     ]
    }
   ],
   "source": [
    "params = ['obs_sigma', 'sample_cost', 'switch_cost']\n",
    "values = {k: list(df[k].unique()) for k in params}\n",
    "for k, v in values.items():\n",
    "    print(k, v)"
   ]
  },
  {
   "cell_type": "code",
   "execution_count": null,
   "metadata": {
    "lines_to_next_cell": 2
   },
   "outputs": [],
   "source": [
    "def get_logp(mdf):\n",
    "    d = mdf.groupby(['trial', 'choice']).apply(len)\n",
    "    d /= d.sum(level=0)\n",
    "    model_p = hdf.apply(lambda row: d[row.trial].get(row.choice, 0), axis=1)\n",
    "\n",
    "    def log_likelihood(p_err):\n",
    "        return np.log(model_p * (1 - p_err) + 1/3 * p_err).mean()\n",
    "\n",
    "    ps = np.linspace(0, 0.05)\n",
    "    logps = [log_likelihood(p) for p in ps]\n",
    "    p_err = ps[np.argmax(logps)]\n",
    "    return max(logps)"
   ]
  },
  {
   "cell_type": "code",
   "execution_count": 221,
   "metadata": {},
   "outputs": [],
   "source": [
    "def get_mdf(obs_sigma, sample_cost, switch_cost):\n",
    "    mdf = df.set_index(params).loc[obs_sigma, sample_cost, switch_cost]\n",
    "    cutoff = mdf.n_step.quantile(0.99)\n",
    "    mdf = mdf.query('n_step < @cutoff')\n",
    "    time_per_step = hdf.rt.mean() / mdf.n_step.mean()\n",
    "    print('seconds per step', time_per_step)\n",
    "    mdf['rt'] = mdf.n_step * time_per_step\n",
    "    return mdf"
   ]
  },
  {
   "cell_type": "code",
   "execution_count": 222,
   "metadata": {},
   "outputs": [],
   "source": [
    "from utils import dict_product\n",
    "from joblib import Parallel, delayed\n",
    "def job(prm):\n",
    "    print('-')\n",
    "    mdf = get_mdf(**prm)\n",
    "    logp = get_logp(mdf)\n",
    "    r = {**prm, 'logp': logp}\n",
    "    print(r)\n",
    "    return r\n",
    "\n",
    "# jobs = [delayed(job)(prm) for prm in dict_product(values)]\n",
    "# result = Parallel(3)(jobs)"
   ]
  },
  {
   "cell_type": "code",
   "execution_count": 266,
   "metadata": {},
   "outputs": [],
   "source": [
    "time_per_step = 84.66635603715173"
   ]
  },
  {
   "cell_type": "code",
   "execution_count": 223,
   "metadata": {},
   "outputs": [
    {
     "name": "stdout",
     "output_type": "stream",
     "text": [
      "seconds per step 84.66635603715173\n"
     ]
    },
    {
     "name": "stderr",
     "output_type": "stream",
     "text": [
      "/usr/local/lib/miniconda3/lib/python3.6/site-packages/ipykernel_launcher.py:7: SettingWithCopyWarning: \n",
      "A value is trying to be set on a copy of a slice from a DataFrame.\n",
      "Try using .loc[row_indexer,col_indexer] = value instead\n",
      "\n",
      "See the caveats in the documentation: http://pandas.pydata.org/pandas-docs/stable/indexing.html#indexing-view-versus-copy\n",
      "  import sys\n"
     ]
    }
   ],
   "source": [
    "MODEL_PARAMS = (5, 0.002, 8)\n",
    "# fits = pd.DataFrame(result)\n",
    "# MODEL_PARAMS = fits.set_index(params).logp.idxmax()\n",
    "mdf = get_mdf(*MODEL_PARAMS)"
   ]
  },
  {
   "cell_type": "code",
   "execution_count": 224,
   "metadata": {},
   "outputs": [],
   "source": [
    "V = value[np.array(~drop)]\n",
    "assert np.all(V.max(1) == hdf.value_max)\n",
    "\n",
    "def softmax(x, temp=1):\n",
    "    ex = np.exp((x - x.max(-1, keepdims=True)) / temp)\n",
    "    return ex / ex.sum(-1, keepdims=True)\n",
    "\n",
    "def log_likelihood(temp):\n",
    "    P = softmax(V, temp)\n",
    "    return np.log(P[np.arange(len(hdf)), hdf.choice.values - 1]).mean()\n",
    "\n",
    "temps = np.linspace(0.2,5)\n",
    "logps = [log_likelihood(t) for t in temps]\n",
    "softmax_logp = max(logps)"
   ]
  },
  {
   "cell_type": "code",
   "execution_count": 225,
   "metadata": {},
   "outputs": [
    {
     "ename": "NameError",
     "evalue": "name 'fits' is not defined",
     "output_type": "error",
     "traceback": [
      "\u001b[0;31m---------------------------------------------------------------------------\u001b[0m",
      "\u001b[0;31mNameError\u001b[0m                                 Traceback (most recent call last)",
      "\u001b[0;32m<ipython-input-225-eb09e961ebbc>\u001b[0m in \u001b[0;36m<module>\u001b[0;34m()\u001b[0m\n\u001b[1;32m      1\u001b[0m \u001b[0mbaseline\u001b[0m \u001b[0;34m=\u001b[0m \u001b[0mnp\u001b[0m\u001b[0;34m.\u001b[0m\u001b[0mlog\u001b[0m\u001b[0;34m(\u001b[0m\u001b[0;36m1\u001b[0m\u001b[0;34m/\u001b[0m\u001b[0;36m3\u001b[0m\u001b[0;34m)\u001b[0m\u001b[0;34m\u001b[0m\u001b[0m\n\u001b[0;32m----> 2\u001b[0;31m \u001b[0mprint\u001b[0m\u001b[0;34m(\u001b[0m\u001b[0mfits\u001b[0m\u001b[0;34m.\u001b[0m\u001b[0mlogp\u001b[0m\u001b[0;34m.\u001b[0m\u001b[0mmax\u001b[0m\u001b[0;34m(\u001b[0m\u001b[0;34m)\u001b[0m\u001b[0;34m)\u001b[0m\u001b[0;34m\u001b[0m\u001b[0m\n\u001b[0m\u001b[1;32m      3\u001b[0m \u001b[0mprint\u001b[0m\u001b[0;34m(\u001b[0m\u001b[0msoftmax_logp\u001b[0m\u001b[0;34m)\u001b[0m\u001b[0;34m\u001b[0m\u001b[0m\n\u001b[1;32m      4\u001b[0m \u001b[0mprint\u001b[0m\u001b[0;34m(\u001b[0m\u001b[0mbaseline\u001b[0m\u001b[0;34m)\u001b[0m\u001b[0;34m\u001b[0m\u001b[0m\n",
      "\u001b[0;31mNameError\u001b[0m: name 'fits' is not defined"
     ]
    }
   ],
   "source": [
    "baseline = np.log(1/3)\n",
    "print(fits.logp.max())\n",
    "print(softmax_logp)\n",
    "print(baseline)"
   ]
  },
  {
   "cell_type": "markdown",
   "metadata": {},
   "source": [
    "# Plots"
   ]
  },
  {
   "cell_type": "code",
   "execution_count": 229,
   "metadata": {},
   "outputs": [],
   "source": [
    "hdf['agent'] = 'Human'\n",
    "mdf['agent'] = 'Model'\n",
    "\n",
    "for dd in mdf, hdf:\n",
    "    dd['loss'] = dd.value_max - dd.choice_value\n",
    "    dd['error'] = dd.loss > 0\n",
    "\n",
    "\n",
    "mdf['n_fix'] = mdf.focused.apply(lambda x: np.sum(np.diff(x) != 0) + 1)\n",
    "\n",
    "# dd = pd.DataFrame([mdf.groupby('trial').n_step.mean()[trials], hdf.groupby('trial').rt.mean()]).T\n",
    "# import statsmodels.formula.api as smf\n",
    "# m = smf.ols('rt ~ n_step', data=dd).fit()\n",
    "# m.summary()\n",
    "# mdf['rt'] = m.predict(mdf.n_step)\n",
    "\n",
    "tdf = pd.concat([hdf, mdf], sort=False).dropna(1)"
   ]
  },
  {
   "cell_type": "code",
   "execution_count": 230,
   "metadata": {},
   "outputs": [],
   "source": [
    "def plot(func, data=tdf):\n",
    "    g = sns.FacetGrid(data, col='agent')\n",
    "    g.map_dataframe(func)\n",
    "    g.set_titles('{col_name}')\n",
    "    return g\n",
    "\n",
    "def save(name):\n",
    "    plt.tight_layout(pad=1.15)\n",
    "    plt.savefig(f'figs/{name}.pdf')"
   ]
  },
  {
   "cell_type": "markdown",
   "metadata": {},
   "source": [
    "## Choice quality"
   ]
  },
  {
   "cell_type": "code",
   "execution_count": 231,
   "metadata": {},
   "outputs": [
    {
     "data": {
      "text/plain": [
       "agent\n",
       "Human    0.731801\n",
       "Model    0.676865\n",
       "Name: choice_value, dtype: float64"
      ]
     },
     "execution_count": 231,
     "metadata": {},
     "output_type": "execute_result"
    }
   ],
   "source": [
    "tdf.groupby('agent').choice_value.mean()"
   ]
  },
  {
   "cell_type": "code",
   "execution_count": 232,
   "metadata": {},
   "outputs": [
    {
     "name": "stderr",
     "output_type": "stream",
     "text": [
      "/usr/local/lib/miniconda3/lib/python3.6/site-packages/scipy/stats/stats.py:1713: FutureWarning: Using a non-tuple sequence for multidimensional indexing is deprecated; use `arr[tuple(seq)]` instead of `arr[seq]`. In the future this will be interpreted as an array index, `arr[np.array(seq)]`, which will result either in an error or a different result.\n",
      "  return np.add.reduce(sorted[indexer] * weights, axis=axis) / sumval\n"
     ]
    },
    {
     "data": {
      "image/png": "[encoded data removed]",
      "text/plain": [
       "<Figure size 432x216 with 2 Axes>"
      ]
     },
     "metadata": {},
     "output_type": "display_data"
    }
   ],
   "source": [
    "def f(data, **kwargs):\n",
    "    sns.distplot(data.choice_value, kde_kws=dict(bw=1))\n",
    "    plt.axvline(data.choice_value.mean(), ls='--')\n",
    "    \n",
    "plot(f).set_axis_labels('Value of Chosen Item', 'Proportion of Trials')\n",
    "save('choice')"
   ]
  },
  {
   "cell_type": "code",
   "execution_count": 233,
   "metadata": {},
   "outputs": [
    {
     "name": "stderr",
     "output_type": "stream",
     "text": [
      "/usr/local/lib/miniconda3/lib/python3.6/site-packages/scipy/stats/stats.py:1713: FutureWarning: Using a non-tuple sequence for multidimensional indexing is deprecated; use `arr[tuple(seq)]` instead of `arr[seq]`. In the future this will be interpreted as an array index, `arr[np.array(seq)]`, which will result either in an error or a different result.\n",
      "  return np.add.reduce(sorted[indexer] * weights, axis=axis) / sumval\n"
     ]
    },
    {
     "data": {
      "image/png": "[encoded data removed]",
      "text/plain": [
       "<Figure size 432x432 with 3 Axes>"
      ]
     },
     "metadata": {},
     "output_type": "display_data"
    }
   ],
   "source": [
    "val = 'choice_value'\n",
    "title = 'Choice Value'\n",
    "x = tdf.groupby(['agent', 'trial'])[val].mean()\n",
    "trials = x['Human'].index\n",
    "model = x['Model'][trials]\n",
    "human = x['Human']\n",
    "g = sns.jointplot(model, human, kind='reg',  scatter=False)\n",
    "plt.scatter(model, human, c='k', alpha=0.3, s=2)\n",
    "plt.sca(g.ax_joint)\n",
    "plt.xlabel(f'Model {title}')\n",
    "plt.ylabel(f'Human {title}')\n",
    "plt.grid()\n",
    "save('joint_choice')"
   ]
  },
  {
   "cell_type": "code",
   "execution_count": 234,
   "metadata": {},
   "outputs": [
    {
     "name": "stderr",
     "output_type": "stream",
     "text": [
      "/usr/local/lib/miniconda3/lib/python3.6/site-packages/scipy/stats/stats.py:1713: FutureWarning: Using a non-tuple sequence for multidimensional indexing is deprecated; use `arr[tuple(seq)]` instead of `arr[seq]`. In the future this will be interpreted as an array index, `arr[np.array(seq)]`, which will result either in an error or a different result.\n",
      "  return np.add.reduce(sorted[indexer] * weights, axis=axis) / sumval\n"
     ]
    },
    {
     "data": {
      "image/png": "[encoded data removed]",
      "text/plain": [
       "<Figure size 432x216 with 2 Axes>"
      ]
     },
     "metadata": {},
     "output_type": "display_data"
    }
   ],
   "source": [
    "def f(data, **kwargs):    \n",
    "    sns.regplot('value_std', 'choice_value', data=data, x_bins=5, ci=95)\n",
    "#     plt.axhline(tdf.rt.mean(), ls='--')\n",
    "plot(f).set_axis_labels('std(Item Values)', 'Value of Chosen Item')\n",
    "save('choice_value')"
   ]
  },
  {
   "cell_type": "code",
   "execution_count": 235,
   "metadata": {},
   "outputs": [
    {
     "name": "stderr",
     "output_type": "stream",
     "text": [
      "/usr/local/lib/miniconda3/lib/python3.6/site-packages/scipy/stats/stats.py:1713: FutureWarning: Using a non-tuple sequence for multidimensional indexing is deprecated; use `arr[tuple(seq)]` instead of `arr[seq]`. In the future this will be interpreted as an array index, `arr[np.array(seq)]`, which will result either in an error or a different result.\n",
      "  return np.add.reduce(sorted[indexer] * weights, axis=axis) / sumval\n"
     ]
    },
    {
     "ename": "NameError",
     "evalue": "name 'r' is not defined",
     "output_type": "error",
     "traceback": [
      "\u001b[0;31m---------------------------------------------------------------------------\u001b[0m",
      "\u001b[0;31mNameError\u001b[0m                                 Traceback (most recent call last)",
      "\u001b[0;32m<ipython-input-235-bb0915fb0e7c>\u001b[0m in \u001b[0;36m<module>\u001b[0;34m()\u001b[0m\n\u001b[1;32m      4\u001b[0m \u001b[0mhuman\u001b[0m \u001b[0;34m=\u001b[0m \u001b[0mtrial_value\u001b[0m\u001b[0;34m[\u001b[0m\u001b[0;34m'Human'\u001b[0m\u001b[0;34m]\u001b[0m\u001b[0;34m\u001b[0m\u001b[0m\n\u001b[1;32m      5\u001b[0m \u001b[0mg\u001b[0m \u001b[0;34m=\u001b[0m \u001b[0msns\u001b[0m\u001b[0;34m.\u001b[0m\u001b[0mjointplot\u001b[0m\u001b[0;34m(\u001b[0m\u001b[0mmodel\u001b[0m\u001b[0;34m,\u001b[0m \u001b[0mhuman\u001b[0m\u001b[0;34m)\u001b[0m\u001b[0;34m\u001b[0m\u001b[0m\n\u001b[0;32m----> 6\u001b[0;31m \u001b[0mg\u001b[0m\u001b[0;34m.\u001b[0m\u001b[0max_joint\u001b[0m\u001b[0;34m.\u001b[0m\u001b[0mtext\u001b[0m\u001b[0;34m(\u001b[0m\u001b[0;34m-\u001b[0m\u001b[0;36m1\u001b[0m\u001b[0;34m,\u001b[0m \u001b[0;36m2.8\u001b[0m\u001b[0;34m,\u001b[0m \u001b[0;34mf'r = {r:0.2f}  p < 1e-10'\u001b[0m\u001b[0;34m,\u001b[0m \u001b[0msize\u001b[0m\u001b[0;34m=\u001b[0m\u001b[0;36m16\u001b[0m\u001b[0;34m)\u001b[0m\u001b[0;34m\u001b[0m\u001b[0m\n\u001b[0m",
      "\u001b[0;31mNameError\u001b[0m: name 'r' is not defined"
     ]
    },
    {
     "data": {
      "image/png": "[encoded data removed]",
      "text/plain": [
       "<Figure size 432x432 with 3 Axes>"
      ]
     },
     "metadata": {},
     "output_type": "display_data"
    }
   ],
   "source": [
    "trial_value = tdf.groupby(['agent', 'trial']).choice_value.mean()\n",
    "trials = trial_value['Human'].index\n",
    "model = trial_value['Model'][trials]\n",
    "human = trial_value['Human']\n",
    "g = sns.jointplot(model, human)\n",
    "g.ax_joint.text(-1, 2.8, f'r = {r:0.2f}  p < 1e-10', size=16)"
   ]
  },
  {
   "cell_type": "markdown",
   "metadata": {},
   "source": [
    "## Number of fixations"
   ]
  },
  {
   "cell_type": "code",
   "execution_count": null,
   "metadata": {},
   "outputs": [],
   "source": [
    "def n_fix(data, **kwargs):\n",
    "    vc = data.n_fix.value_counts().sort_index()\n",
    "    vc /= vc.sum()\n",
    "    vc = vc.loc[1:10]\n",
    "    vc.plot.bar(color='k')\n",
    "    plt.xlabel('Number of Fixations')\n",
    "    plt.ylabel('Proportion of Trials')\n",
    "\n",
    "plot(n_fix).set_axis_labels('Number of Fixations', 'Proportion of Trials')\n",
    "save('nfix')"
   ]
  },
  {
   "cell_type": "markdown",
   "metadata": {},
   "source": [
    "## Reaction time"
   ]
  },
  {
   "cell_type": "code",
   "execution_count": null,
   "metadata": {},
   "outputs": [],
   "source": [
    "g = tdf.groupby(['agent', 'trial']).rt.mean()\n",
    "trials = g['Human'].index\n",
    "model = g['Model'][trials]\n",
    "human = g['Human']\n",
    "g = sns.regplot(model, human, x_bins=5)\n",
    "plt.axis('square')\n",
    "plt.xlim(1900, 2800)\n",
    "plt.ylim(1900, 2800)\n",
    "plt.xlabel('Model RT')\n",
    "plt.ylabel('Human RT')\n",
    "plt.grid()\n",
    "# g.ax_joint.text(-1, 2.8, f'r = {r:0.2f}  p < 1e-10', size=16)"
   ]
  },
  {
   "cell_type": "code",
   "execution_count": null,
   "metadata": {},
   "outputs": [],
   "source": [
    "def f(data, **kwargs):\n",
    "    sns.distplot(data.rt)\n",
    "    plt.xlim(0, 10000)\n",
    "    # plt.axvline(tdf.rt.mean(), ls='--')\n",
    "\n",
    "plot(f).set_axis_labels('Reaction Time (s)', 'Proportion of Trials')\n",
    "plt.tight_layout(pad=1.2)\n",
    "save('rt')"
   ]
  },
  {
   "cell_type": "code",
   "execution_count": null,
   "metadata": {},
   "outputs": [],
   "source": [
    "def f(data, **kwargs):    \n",
    "    sns.regplot('value_std', 'rt', data=data, x_bins=5, ci=95)\n",
    "#     plt.axhline(tdf.rt.mean(), ls='--')\n",
    "plot(f).set_axis_labels('std(Item Values)', 'Reaction Time')\n",
    "save('value_std')"
   ]
  },
  {
   "cell_type": "code",
   "execution_count": null,
   "metadata": {},
   "outputs": [],
   "source": [
    "def f(data, **kwargs):    \n",
    "    sns.regplot('value_mean', 'rt', data=data, x_bins=5, ci=95)\n",
    "#     plt.axhline(tdf.rt.mean(), ls='--')\n",
    "    \n",
    "plot(f).set_axis_labels('mean(Item Values)', 'Reaction Time')\n",
    "save('value_mean')"
   ]
  },
  {
   "cell_type": "code",
   "execution_count": 281,
   "metadata": {},
   "outputs": [
    {
     "name": "stderr",
     "output_type": "stream",
     "text": [
      "/usr/local/lib/miniconda3/lib/python3.6/site-packages/scipy/stats/stats.py:1713: FutureWarning: Using a non-tuple sequence for multidimensional indexing is deprecated; use `arr[tuple(seq)]` instead of `arr[seq]`. In the future this will be interpreted as an array index, `arr[np.array(seq)]`, which will result either in an error or a different result.\n",
      "  return np.add.reduce(sorted[indexer] * weights, axis=axis) / sumval\n"
     ]
    },
    {
     "data": {
      "text/plain": [
       "<matplotlib.axes._subplots.AxesSubplot at 0x252ffdc50>"
      ]
     },
     "execution_count": 281,
     "metadata": {},
     "output_type": "execute_result"
    },
    {
     "data": {
      "image/png": "[encoded data removed]",
      "text/plain": [
       "<Figure size 432x288 with 1 Axes>"
      ]
     },
     "metadata": {},
     "output_type": "display_data"
    }
   ],
   "source": [
    "sns.regplot('choice_value', 'rt', data=hdf, x_bins=5)"
   ]
  },
  {
   "cell_type": "code",
   "execution_count": 298,
   "metadata": {},
   "outputs": [],
   "source": [
    "tdf['relative_chosen'] = tdf.choice_value - tdf.value_mean"
   ]
  },
  {
   "cell_type": "code",
   "execution_count": 304,
   "metadata": {},
   "outputs": [
    {
     "name": "stderr",
     "output_type": "stream",
     "text": [
      "/usr/local/lib/miniconda3/lib/python3.6/site-packages/scipy/stats/stats.py:1713: FutureWarning: Using a non-tuple sequence for multidimensional indexing is deprecated; use `arr[tuple(seq)]` instead of `arr[seq]`. In the future this will be interpreted as an array index, `arr[np.array(seq)]`, which will result either in an error or a different result.\n",
      "  return np.add.reduce(sorted[indexer] * weights, axis=axis) / sumval\n"
     ]
    },
    {
     "data": {
      "text/plain": [
       "<seaborn.axisgrid.FacetGrid at 0x252df0710>"
      ]
     },
     "execution_count": 304,
     "metadata": {},
     "output_type": "execute_result"
    },
    {
     "data": {
      "image/png": "[encoded data removed]",
      "text/plain": [
       "<Figure size 432x216 with 2 Axes>"
      ]
     },
     "metadata": {},
     "output_type": "display_data"
    }
   ],
   "source": [
    "def f(data, **kwargs):\n",
    "    sns.regplot('relative_chosen', 'rt', data=data, x_bins=8, ci=None)\n",
    "    \n",
    "plot(f)"
   ]
  },
  {
   "cell_type": "markdown",
   "metadata": {},
   "source": [
    "## Attention"
   ]
  },
  {
   "cell_type": "code",
   "execution_count": 272,
   "metadata": {
    "lines_to_next_cell": 0
   },
   "outputs": [],
   "source": [
    "from toolz import concat\n",
    "\n",
    "def focus_ranks(row):\n",
    "    ranks = np.argsort(-np.array(row['value'])) + 1\n",
    "    return ranks[np.array(row['focused'])-1]\n",
    "\n",
    "\n",
    "model_ranks = pd.DataFrame(list(concat(enumerate(focus_ranks(row)) for i, row in mdf.iterrows())),\n",
    "                     columns=['step', 'focus'])"
   ]
  },
  {
   "cell_type": "code",
   "execution_count": 273,
   "metadata": {},
   "outputs": [
    {
     "data": {
      "text/html": [
       "<div>\n",
       "<style scoped>\n",
       "    .dataframe tbody tr th:only-of-type {\n",
       "        vertical-align: middle;\n",
       "    }\n",
       "\n",
       "    .dataframe tbody tr th {\n",
       "        vertical-align: top;\n",
       "    }\n",
       "\n",
       "    .dataframe thead th {\n",
       "        text-align: right;\n",
       "    }\n",
       "</style>\n",
       "<table border=\"1\" class=\"dataframe\">\n",
       "  <thead>\n",
       "    <tr style=\"text-align: right;\">\n",
       "      <th></th>\n",
       "      <th>time</th>\n",
       "      <th>focus_rank</th>\n",
       "      <th>agent</th>\n",
       "    </tr>\n",
       "  </thead>\n",
       "  <tbody>\n",
       "    <tr>\n",
       "      <th>0</th>\n",
       "      <td>0.0</td>\n",
       "      <td>1</td>\n",
       "      <td>Human</td>\n",
       "    </tr>\n",
       "    <tr>\n",
       "      <th>0</th>\n",
       "      <td>50.0</td>\n",
       "      <td>1</td>\n",
       "      <td>Human</td>\n",
       "    </tr>\n",
       "    <tr>\n",
       "      <th>0</th>\n",
       "      <td>100.0</td>\n",
       "      <td>1</td>\n",
       "      <td>Human</td>\n",
       "    </tr>\n",
       "    <tr>\n",
       "      <th>0</th>\n",
       "      <td>150.0</td>\n",
       "      <td>1</td>\n",
       "      <td>Human</td>\n",
       "    </tr>\n",
       "    <tr>\n",
       "      <th>0</th>\n",
       "      <td>200.0</td>\n",
       "      <td>1</td>\n",
       "      <td>Human</td>\n",
       "    </tr>\n",
       "  </tbody>\n",
       "</table>\n",
       "</div>"
      ],
      "text/plain": [
       "    time  focus_rank  agent\n",
       "0    0.0           1  Human\n",
       "0   50.0           1  Human\n",
       "0  100.0           1  Human\n",
       "0  150.0           1  Human\n",
       "0  200.0           1  Human"
      ]
     },
     "execution_count": 273,
     "metadata": {},
     "output_type": "execute_result"
    }
   ],
   "source": [
    "human_ranks = pd.read_pickle('data/human_focus')\n",
    "human_ranks.focus_rank = human_ranks.focus_rank.astype(int)\n",
    "human_ranks['agent'] = 'Human'\n",
    "model_ranks['agent'] = 'Model'\n",
    "model_ranks['focus_rank'] = model_ranks.pop('focus')\n",
    "model_ranks['time'] = model_ranks.pop('step') * time_per_step\n",
    "ranks = pd.concat([human_ranks, model_ranks], sort=False)\n",
    "ranks.head()"
   ]
  },
  {
   "cell_type": "code",
   "execution_count": null,
   "metadata": {
    "scrolled": false
   },
   "outputs": [],
   "source": [
    "def f(data, **kwargs):\n",
    "    n_step = data.groupby(['focus_rank', 'time']).apply(len)\n",
    "    p_step = n_step / n_step.sum(level=1)\n",
    "    p_step.unstack().T.plot(ax=plt.gca())\n",
    "    max_x = (human_ranks.time.value_counts() > 100).argmin()\n",
    "    plt.xlim(0,max_x)\n",
    "    plt.axhline(1/3, c='k', lw=1, ls='--')\n",
    "    plt.ylim(0, 0.5)\n",
    "    plt.savefig('figs/human_fix.pdf')\n",
    "\n",
    "g = plot(f, data=ranks)\n",
    "g.set_axis_labels('Time', 'Probability of Fixating')\n",
    "g.add_legend(title='Item Value Rank')\n",
    "plt.subplots_adjust(bottom=0.2, left=0.15)\n",
    "plt.savefig('figs/prob_fix.pdf')\n"
   ]
  },
  {
   "cell_type": "code",
   "execution_count": null,
   "metadata": {},
   "outputs": [],
   "source": [
    "dd = pd.melt(pd.get_dummies(human_ranks, columns=['focus_rank']), id_vars=['time', 'agent'], var_name='rank', value_name='focused')\n",
    "dd['rank'] = dd['rank'].str[-1]\n",
    "sns.lmplot('time', 'focused', hue='rank', data=dd, scatter=False, )"
   ]
  },
  {
   "cell_type": "code",
   "execution_count": null,
   "metadata": {},
   "outputs": [],
   "source": [
    "import statsmodels.formula.api as smf\n",
    "import statsmodels.api as sm\n",
    "mod = smf.glm('focused ~ time * rank', family=sm.families.Binomial(), data=dd)\n",
    "mod.fit().summary()"
   ]
  },
  {
   "cell_type": "code",
   "execution_count": null,
   "metadata": {},
   "outputs": [],
   "source": [
    "\n",
    "\n",
    "\n",
    "\n",
    "\n",
    "\n",
    "\n",
    "\n",
    "\n",
    "\n",
    "\n",
    "\n",
    "\n",
    "\n"
   ]
  }
 ],
 "metadata": {
  "anaconda-cloud": {},
  "kernelspec": {
   "display_name": "Python 3",
   "language": "python",
   "name": "python3"
  },
  "language_info": {
   "codemirror_mode": {
    "name": "ipython",
    "version": 3
   },
   "file_extension": ".py",
   "mimetype": "text/x-python",
   "name": "python",
   "nbconvert_exporter": "python",
   "pygments_lexer": "ipython3",
   "version": "3.6.3"
  },
  "nav_menu": {},
  "toc": {
   "navigate_menu": true,
   "number_sections": true,
   "sideBar": true,
   "threshold": 6,
   "toc_cell": false,
   "toc_section_display": "block",
   "toc_window_display": false
  }
 },
 "nbformat": 4,
 "nbformat_minor": 2
}
