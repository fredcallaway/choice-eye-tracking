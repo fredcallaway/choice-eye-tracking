{
 "cells": [
  {
   "cell_type": "code",
   "execution_count": 1,
   "metadata": {},
   "outputs": [
    {
     "name": "stdout",
     "output_type": "stream",
     "text": [
      "The autoreload extension is already loaded. To reload it, use:\n",
      "  %reload_ext autoreload\n"
     ]
    }
   ],
   "source": [
    "%matplotlib inline\n",
    "%load_ext autoreload\n",
    "%autoreload 2\n",
    "\n",
    "import matplotlib.pyplot as plt\n",
    "import numpy as np\n",
    "import pandas as pd\n",
    "import seaborn as sns\n",
    "\n",
    "sns.set_context('notebook', font_scale=1.3)\n",
    "sns.set_palette('tab10')\n",
    "sns.set_style('white')"
   ]
  },
  {
   "cell_type": "code",
   "execution_count": 2,
   "metadata": {},
   "outputs": [],
   "source": [
    "from toolz import concat\n",
    "df = pd.read_csv('../krajbich_PNAS_2011/data.csv')\n",
    "df['fixation'] = list(concat(df.groupby(['subject', 'trial']).apply(lambda x: range(len(x)))))\n",
    "df.drop('Unnamed: 0', axis=1, inplace=True)\n",
    "df.set_index(['subject', 'trial'], inplace=True)\n",
    "df.rename(columns={\n",
    "    'roirating': 'roi_rating',\n",
    "    'leftroi': 'roi1',\n",
    "    'middleroi': 'roi2',\n",
    "    'rightroi': 'roi3'\n",
    "}, inplace=True)\n",
    "subjects = df.reset_index().subject.unique()"
   ]
  },
  {
   "cell_type": "code",
   "execution_count": 4,
   "metadata": {},
   "outputs": [],
   "source": [
    "trial_ratings = df.groupby(['subject', 'trial'])[[f'rating{i}' for i in range(1,4)]].mean()\n",
    "rating_agg = (pd.melt(trial_ratings.reset_index(), id_vars=['subject', 'trial']) \n",
    "              .groupby(['subject']).value.agg(['mean', 'std']))\n",
    "\n",
    "value = trial_ratings.copy()\n",
    "for s in subjects:\n",
    "    value.loc[s] = ((value.loc[s] - rating_agg['mean'].loc[s]) / rating_agg['std'].loc[s]).values"
   ]
  },
  {
   "cell_type": "code",
   "execution_count": 17,
   "metadata": {},
   "outputs": [
    {
     "name": "stderr",
     "output_type": "stream",
     "text": [
      "/usr/local/lib/miniconda3/lib/python3.6/site-packages/scipy/stats/stats.py:1713: FutureWarning: Using a non-tuple sequence for multidimensional indexing is deprecated; use `arr[tuple(seq)]` instead of `arr[seq]`. In the future this will be interpreted as an array index, `arr[np.array(seq)]`, which will result either in an error or a different result.\n",
      "  return np.add.reduce(sorted[indexer] * weights, axis=axis) / sumval\n"
     ]
    },
    {
     "data": {
      "text/plain": [
       "<matplotlib.axes._subplots.AxesSubplot at 0x11aa33f98>"
      ]
     },
     "execution_count": 17,
     "metadata": {},
     "output_type": "execute_result"
    },
    {
     "data": {
      "image/png": "[encoded data removed]",
      "text/plain": [
       "<Figure size 432x288 with 1 Axes>"
      ]
     },
     "metadata": {},
     "output_type": "display_data"
    }
   ],
   "source": [
    "sns.distplot(trial_ratings.values.flat)"
   ]
  },
  {
   "cell_type": "code",
   "execution_count": 23,
   "metadata": {},
   "outputs": [],
   "source": [
    "import h5py\n",
    "hf = h5py.File('../data.h5', 'w')\n",
    "hf.create_dataset('values', data=value.values)\n",
    "hf.close()"
   ]
  },
  {
   "cell_type": "code",
   "execution_count": 39,
   "metadata": {},
   "outputs": [
    {
     "name": "stderr",
     "output_type": "stream",
     "text": [
      "/usr/local/lib/miniconda3/lib/python3.6/site-packages/ipykernel_launcher.py:1: FutureWarning: Method .as_matrix will be removed in a future version. Use .values instead.\n",
      "  \"\"\"Entry point for launching an IPython kernel.\n",
      "/usr/local/lib/miniconda3/lib/python3.6/site-packages/ipykernel_launcher.py:3: FutureWarning: Method .as_matrix will be removed in a future version. Use .values instead.\n",
      "  This is separate from the ipykernel package so we can avoid doing imports until\n",
      "/usr/local/lib/miniconda3/lib/python3.6/site-packages/ipykernel_launcher.py:5: FutureWarning: Method .as_matrix will be removed in a future version. Use .values instead.\n",
      "  \"\"\"\n"
     ]
    }
   ],
   "source": [
    "roi = df[['roi1', 'roi2', 'roi3']].as_matrix()\n",
    "df['roi'] = (roi * [1,2,3]).sum(1)\n",
    "choice = df[['choice1', 'choice2', 'choice3']].as_matrix()\n",
    "df['choice'] = (choice * [1,2,3]).sum(1)\n",
    "rank = df[['rating1', 'rating2', 'rating3']].rank(1, ascending=False).astype(int).as_matrix()\n",
    "roi_rank = (roi * rank).sum(1)\n",
    "df['roi_rank'] = roi_rank"
   ]
  },
  {
   "cell_type": "code",
   "execution_count": 42,
   "metadata": {},
   "outputs": [
    {
     "data": {
      "text/plain": [
       "{'rt': 1782,\n",
       " 'subject': 1,\n",
       " 'trial': 1,\n",
       " 'last_fix': 2,\n",
       " 'choice': 2,\n",
       " 'last_duration': 818,\n",
       " 'choose_last': True,\n",
       " 'last_fix_value_advantage': 5.0}"
      ]
     },
     "execution_count": 42,
     "metadata": {},
     "output_type": "execute_result"
    }
   ],
   "source": [
    "def pull_values(row, key):\n",
    "    x = row[[f'{key}{i}' for i in (1,2,3)]].copy()\n",
    "    x.index = [1,2,3]\n",
    "    return x\n",
    "\n",
    "def others(i):\n",
    "    return {1,2,3} - {i}\n",
    "\n",
    "trial = df.loc[1, 1]\n",
    "def parse_trial(trial):\n",
    "    last = trial.iloc[-1].astype(int)\n",
    "    rating = pull_values(last, 'rating')\n",
    "    fixtime = trial.groupby('roi').eventduration.sum()\n",
    "    t = {\n",
    "        'rt': last.rt,\n",
    "        'subject': last.subject,\n",
    "        'trial': last.trial,\n",
    "        'last_fix': last.roi,\n",
    "        'choice': last.choice,\n",
    "        'last_duration': last.eventduration,\n",
    "#         'choose_last': last.choice == last.roi,\n",
    "#         'last_fix_value_advantage': rating[last.roi] - rating[others(last.roi)].mean()\n",
    "#         'last_value': last[f'rating{last.roi}']\n",
    "    }\n",
    "#     for i in range(1,4):\n",
    "#         t[f'rating{i}'] = last[f'rating{i}']\n",
    "#         t[f'fixtime{i}'] = fixtime.get(i, 0)\n",
    "    return t\n",
    "\n",
    "parse_trial(trial.reset_index())\n",
    "# tdf = pd.DataFrame(list(df.reset_index().groupby(['subject', 'trial']).apply(parse_trial))).set_index(['subject', 'trial'])"
   ]
  },
  {
   "cell_type": "code",
   "execution_count": 103,
   "metadata": {},
   "outputs": [],
   "source": [
    "tdf['n_fix'] = df.groupby(['subject', 'trial']).apply(len)\n",
    "tdf['value_std'] = value.values.std(1)\n",
    "tdf['value_max'] = value.values.max(1)\n",
    "tdf['value_mean'] = value.values.mean(1)\n",
    "tdf['choice_value'] = value.values[np.arange(len(value)), tdf.choice.values - 1]\n",
    "tdf.reset_index().to_pickle('data/human_trials')"
   ]
  },
  {
   "cell_type": "markdown",
   "metadata": {},
   "source": [
    "## Choice quality"
   ]
  },
  {
   "cell_type": "code",
   "execution_count": 320,
   "metadata": {},
   "outputs": [
    {
     "data": {
      "text/plain": [
       "mean    0.729749\n",
       "std     0.928087\n",
       "dtype: float64"
      ]
     },
     "execution_count": 320,
     "metadata": {},
     "output_type": "execute_result"
    }
   ],
   "source": [
    "choice = np.array(tdf.choice - 1)\n",
    "tdf['choice_value'] = ratings_z.values[np.arange(len(ratings_z)), choice]\n",
    "tdf.choice_value.agg(['mean', 'std'])"
   ]
  },
  {
   "cell_type": "markdown",
   "metadata": {},
   "source": [
    "# Attention over time"
   ]
  },
  {
   "cell_type": "code",
   "execution_count": 98,
   "metadata": {},
   "outputs": [
    {
     "name": "stderr",
     "output_type": "stream",
     "text": [
      "/usr/local/lib/miniconda3/lib/python3.6/site-packages/pandas/core/series.py:851: FutureWarning: \n",
      "Passing list-likes to .loc or [] with any missing label will raise\n",
      "KeyError in the future, you can use .reindex() as an alternative.\n",
      "\n",
      "See the documentation here:\n",
      "https://pandas.pydata.org/pandas-docs/stable/indexing.html#deprecate-loc-reindex-listlike\n",
      "  return self.loc[key]\n"
     ]
    }
   ],
   "source": [
    "def long_form(df, quant=50):\n",
    "    for (sub, t), trial in df.reset_index().groupby(['subject', 'trial']):\n",
    "        step = 0\n",
    "        for _, fix in (trial.iterrows()):\n",
    "            for _ in range(int(round(fix.eventduration / quant))):\n",
    "                x = fix[['subject', 'trial', 'roi', 'roi_rating_z', 'roi_rank']]\n",
    "                x['step'] = step\n",
    "                step += quant\n",
    "                yield x\n",
    "\n",
    "max_rt = tdf.rt.quantile(0.99)\n",
    "ldf = pd.DataFrame(long_form(df.reset_index().query('rt < @max_rt')))"
   ]
  },
  {
   "cell_type": "code",
   "execution_count": 101,
   "metadata": {},
   "outputs": [],
   "source": [
    "ldf[['step', 'roi_rank']].rename(columns={'step': 'time', 'roi_rank': 'focus_rank'}).to_pickle('data/human_focus')"
   ]
  },
  {
   "cell_type": "code",
   "execution_count": 99,
   "metadata": {},
   "outputs": [
    {
     "data": {
      "image/png": "[encoded data removed]",
      "text/plain": [
       "<Figure size 432x288 with 1 Axes>"
      ]
     },
     "metadata": {},
     "output_type": "display_data"
    }
   ],
   "source": [
    "def plot_fixations(ldf):\n",
    "    n_step = ldf.groupby(['roi_rank', 'step']).apply(len)\n",
    "    p_step = n_step / n_step.sum(level=1)\n",
    "    p_step.unstack().T.plot()\n",
    "    plt.xlim(1,3000)\n",
    "    plt.ylim(0, 1)\n",
    "    plt.ylabel('Probability of Fixating')\n",
    "    plt.xlabel('Time')\n",
    "    plt.legend(title='Item Value Rank')\n",
    "    plt.axhline(1/3, c='k', lw=1, ls='--')\n",
    "    plt.title('Human Fixations');\n",
    "#     plt.savefig('figs/human_fix.pdf')\n",
    "\n",
    "plot_fixations(ldf)"
   ]
  },
  {
   "cell_type": "code",
   "execution_count": 275,
   "metadata": {},
   "outputs": [
    {
     "data": {
      "text/plain": [
       "[]"
      ]
     },
     "execution_count": 275,
     "metadata": {},
     "output_type": "execute_result"
    },
    {
     "data": {
      "image/png": "[encoded data removed]",
      "text/plain": [
       "<Figure size 432x288 with 2 Axes>"
      ]
     },
     "metadata": {},
     "output_type": "display_data"
    }
   ],
   "source": [
    "# s, t = np.random.choice(tdf.index)\n",
    "fig, axes = plt.subplots(1,2, gridspec_kw = {'width_ratios':[3, 1]})\n",
    "ldf.set_index(['subject', 'trial']).loc[s, t].roi.plot(ax=axes[0])\n",
    "axes[0].axhline(tdf.loc[s, t].choice, c='r', ls='--')\n",
    "\n",
    "ratings_z.loc[s, t].plot.barh(ax=axes[1])\n",
    "axes[1].set_yticks(())\n"
   ]
  }
 ],
 "metadata": {
  "anaconda-cloud": {},
  "jupytext_formats": "ipynb,nb.py",
  "kernelspec": {
   "display_name": "Python 3",
   "language": "python",
   "name": "python3"
  },
  "language_info": {
   "codemirror_mode": {
    "name": "ipython",
    "version": 3
   },
   "file_extension": ".py",
   "mimetype": "text/x-python",
   "name": "python",
   "nbconvert_exporter": "python",
   "pygments_lexer": "ipython3",
   "version": "3.6.3"
  },
  "nav_menu": {},
  "toc": {
   "navigate_menu": true,
   "number_sections": true,
   "sideBar": true,
   "threshold": 6,
   "toc_cell": false,
   "toc_section_display": "block",
   "toc_window_display": false
  }
 },
 "nbformat": 4,
 "nbformat_minor": 2
}
