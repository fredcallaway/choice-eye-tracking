{
 "cells": [
  {
   "cell_type": "code",
   "execution_count": 1,
   "metadata": {},
   "outputs": [
    {
     "name": "stdout",
     "output_type": "stream",
     "text": [
      "The autoreload extension is already loaded. To reload it, use:\n",
      "  %reload_ext autoreload\n"
     ]
    }
   ],
   "source": [
    "%matplotlib inline\n",
    "%load_ext autoreload\n",
    "%autoreload 2\n",
    "\n",
    "import matplotlib.pyplot as plt\n",
    "import numpy as np\n",
    "import pandas as pd\n",
    "import seaborn as sns\n",
    "\n",
    "sns.set_context('notebook', font_scale=1.3)\n",
    "sns.set_palette('tab10')\n",
    "sns.set_style('white')"
   ]
  },
  {
   "cell_type": "code",
   "execution_count": 35,
   "metadata": {},
   "outputs": [],
   "source": [
    "from glob import glob\n",
    "import json\n",
    "run = 'cougar'\n",
    "def rows():\n",
    "    for fn in glob(f'../julia/runs/{run}/results/rollouts*'):\n",
    "        with open(fn) as f:\n",
    "            d = json.load(f)\n",
    "            for roll in d['rollouts']:\n",
    "                roll.update(d['params'])\n",
    "                yield roll\n",
    "df = pd.DataFrame(rows())\n",
    "# df.to_pickle(f'data/matched_{run}')\n",
    "# df = pd.read_pickle(f'data/matched_{run}')"
   ]
  },
  {
   "cell_type": "code",
   "execution_count": 24,
   "metadata": {},
   "outputs": [],
   "source": [
    "df['n_step'] = df.focused.apply(len)\n",
    "df_value = np.stack(df.value)\n",
    "df['value_max'] = df_value.max(1)\n",
    "df['value_min'] = df_value.min(1)\n",
    "df['value_mean'] = df_value.mean(1)\n",
    "df['value_std'] = df_value.std(1)\n",
    "df['choice_value'] = df_value[np.arange(len(df)), df.choice.values - 1]\n",
    "cutoff = df.n_step.quantile(0.99)\n",
    "df = df.query('n_step < @cutoff').copy()\n",
    "df['loss'] = df.value_max - df.choice_value\n",
    "df['error'] = df.loss > 0\n",
    "df['n_fix'] = df.focused.apply(lambda x: np.sum(np.diff(x) != 0) + 1)\n",
    "\n",
    "import statsmodels.formula.api as smf\n",
    "def ols(formula):\n",
    "    return smf.ols(formula, data=df).fit().summary().tables[1]"
   ]
  },
  {
   "cell_type": "code",
   "execution_count": 26,
   "metadata": {},
   "outputs": [
    {
     "data": {
      "text/html": [
       "<table class=\"simpletable\">\n",
       "<tr>\n",
       "      <td></td>         <th>coef</th>     <th>std err</th>      <th>t</th>      <th>P>|t|</th>  <th>[0.025</th>    <th>0.975]</th>  \n",
       "</tr>\n",
       "<tr>\n",
       "  <th>Intercept</th> <td>   23.6176</td> <td>    0.194</td> <td>  121.559</td> <td> 0.000</td> <td>   23.237</td> <td>   23.998</td>\n",
       "</tr>\n",
       "<tr>\n",
       "  <th>value_min</th> <td>    0.0239</td> <td>    0.164</td> <td>    0.145</td> <td> 0.884</td> <td>   -0.298</td> <td>    0.345</td>\n",
       "</tr>\n",
       "<tr>\n",
       "  <th>value_std</th> <td>   -4.6503</td> <td>    0.317</td> <td>  -14.667</td> <td> 0.000</td> <td>   -5.272</td> <td>   -4.029</td>\n",
       "</tr>\n",
       "</table>"
      ],
      "text/plain": [
       "<class 'statsmodels.iolib.table.SimpleTable'>"
      ]
     },
     "execution_count": 26,
     "metadata": {},
     "output_type": "execute_result"
    }
   ],
   "source": [
    "ols('n_step ~  + value_std')"
   ]
  },
  {
   "cell_type": "code",
   "execution_count": 15,
   "metadata": {},
   "outputs": [
    {
     "data": {
      "text/html": [
       "<table class=\"simpletable\">\n",
       "<tr>\n",
       "      <td></td>         <th>coef</th>     <th>std err</th>      <th>t</th>      <th>P>|t|</th>  <th>[0.025</th>    <th>0.975]</th>  \n",
       "</tr>\n",
       "<tr>\n",
       "  <th>Intercept</th> <td>   26.1531</td> <td>    0.231</td> <td>  113.331</td> <td> 0.000</td> <td>   25.701</td> <td>   26.605</td>\n",
       "</tr>\n",
       "<tr>\n",
       "  <th>value_max</th> <td>   -0.0193</td> <td>    0.196</td> <td>   -0.099</td> <td> 0.921</td> <td>   -0.403</td> <td>    0.364</td>\n",
       "</tr>\n",
       "<tr>\n",
       "  <th>value_std</th> <td>   -6.3329</td> <td>    0.380</td> <td>  -16.687</td> <td> 0.000</td> <td>   -7.077</td> <td>   -5.589</td>\n",
       "</tr>\n",
       "</table>"
      ],
      "text/plain": [
       "<class 'statsmodels.iolib.table.SimpleTable'>"
      ]
     },
     "execution_count": 15,
     "metadata": {},
     "output_type": "execute_result"
    }
   ],
   "source": [
    "ols('n_step ~ value_max + value_std')"
   ]
  },
  {
   "cell_type": "code",
   "execution_count": 27,
   "metadata": {
    "collapsed": true
   },
   "outputs": [
    {
     "data": {
      "text/html": [
       "<table class=\"simpletable\">\n",
       "<tr>\n",
       "             <td></td>               <th>coef</th>     <th>std err</th>      <th>t</th>      <th>P>|t|</th>  <th>[0.025</th>    <th>0.975]</th>  \n",
       "</tr>\n",
       "<tr>\n",
       "  <th>Intercept</th>              <td>-1.221e+10</td> <td> 4.54e+12</td> <td>   -0.003</td> <td> 0.998</td> <td> -8.9e+12</td> <td> 8.88e+12</td>\n",
       "</tr>\n",
       "<tr>\n",
       "  <th>value_mean</th>             <td> 3.053e+04</td> <td> 1.13e+07</td> <td>    0.003</td> <td> 0.998</td> <td>-2.22e+07</td> <td> 2.23e+07</td>\n",
       "</tr>\n",
       "<tr>\n",
       "  <th>switch_cost</th>            <td> 1.221e+10</td> <td> 4.54e+12</td> <td>    0.003</td> <td> 0.998</td> <td>-8.88e+12</td> <td>  8.9e+12</td>\n",
       "</tr>\n",
       "<tr>\n",
       "  <th>value_mean:switch_cost</th> <td>-3.053e+04</td> <td> 1.13e+07</td> <td>   -0.003</td> <td> 0.998</td> <td>-2.23e+07</td> <td> 2.22e+07</td>\n",
       "</tr>\n",
       "</table>"
      ],
      "text/plain": [
       "<class 'statsmodels.iolib.table.SimpleTable'>"
      ]
     },
     "execution_count": 27,
     "metadata": {},
     "output_type": "execute_result"
    }
   ],
   "source": [
    "ols('n_step ~ value_mean * switch_cost')"
   ]
  },
  {
   "cell_type": "markdown",
   "metadata": {},
   "source": [
    "# Compare parameters"
   ]
  },
  {
   "cell_type": "code",
   "execution_count": 6,
   "metadata": {},
   "outputs": [],
   "source": [
    "grp = df.groupby(['obs_sigma', 'sample_cost', 'switch_cost', 'seed'])[['n_step', 'reward', 'n_fix', 'choice_value']].mean()"
   ]
  },
  {
   "cell_type": "code",
   "execution_count": null,
   "metadata": {},
   "outputs": [],
   "source": [
    "sns.catplot('obs_sigma', 'choice_value', row='sample_cost', col='switch_cost', data=grp.reset_index())"
   ]
  },
  {
   "cell_type": "markdown",
   "metadata": {},
   "source": [
    "# Match human plots"
   ]
  },
  {
   "cell_type": "code",
   "execution_count": 37,
   "metadata": {},
   "outputs": [],
   "source": [
    "hdf = pd.read_pickle('data/human_trials')\n",
    "cutoff = hdf.rt.quantile(0.99)\n",
    "hdf = hdf.query('rt < @cutoff')\n",
    "hdf.rt /= 1000"
   ]
  },
  {
   "cell_type": "code",
   "execution_count": 38,
   "metadata": {},
   "outputs": [
    {
     "name": "stdout",
     "output_type": "stream",
     "text": [
      "obs_sigma [3. 5. 8.]\n",
      "sample_cost [0.001 0.002 0.003 0.005 0.01 ]\n",
      "switch_cost [2. 3. 4. 8.]\n"
     ]
    }
   ],
   "source": [
    "params = ['obs_sigma', 'sample_cost', 'switch_cost']\n",
    "for k in params:\n",
    "    print(k, df[k].unique())"
   ]
  },
  {
   "cell_type": "code",
   "execution_count": 43,
   "metadata": {},
   "outputs": [
    {
     "name": "stdout",
     "output_type": "stream",
     "text": [
      "seconds per step 0.08267850440661169\n"
     ]
    }
   ],
   "source": [
    "MODEL_PARAMS = (5, 0.002, 8)\n",
    "mdf = df.set_index(params).loc[MODEL_PARAMS]\n",
    "\n",
    "mdf['n_step'] = mdf.focused.apply(len)\n",
    "mdf_value = np.stack(mdf.value)\n",
    "mdf['value_max'] = mdf_value.max(1)\n",
    "mdf['value_min'] = mdf_value.min(1)\n",
    "mdf['value_mean'] = mdf_value.mean(1)\n",
    "mdf['value_std'] = mdf_value.std(1)\n",
    "mdf['choice_value'] = mdf_value[np.arange(len(mdf)), mdf.choice.values - 1]\n",
    "cutoff = mdf.n_step.quantile(0.99)\n",
    "mdf = mdf.query('n_step < @cutoff').copy()\n",
    "mdf['loss'] = mdf.value_max - mdf.choice_value\n",
    "mdf['error'] = mdf.loss > 0\n",
    "mdf['n_fix'] = mdf.focused.apply(lambda x: np.sum(np.diff(x) != 0) + 1)\n",
    "\n",
    "time_per_step = hdf.rt.mean() / mdf.n_step.mean()\n",
    "print('seconds per step', time_per_step)\n",
    "mdf['rt'] = mdf.n_step * time_per_step"
   ]
  },
  {
   "cell_type": "code",
   "execution_count": 45,
   "metadata": {},
   "outputs": [],
   "source": [
    "hdf['agent'] = 'Human'\n",
    "mdf['agent'] = 'Model'\n",
    "\n",
    "for dd in mdf, hdf:\n",
    "    dd['loss'] = dd.value_max - dd.choice_value\n",
    "    dd['error'] = dd.loss > 0\n",
    "\n",
    "tdf = pd.concat([hdf, mdf]).dropna(1)"
   ]
  },
  {
   "cell_type": "code",
   "execution_count": 46,
   "metadata": {},
   "outputs": [],
   "source": [
    "def plot(func, data=tdf):\n",
    "    g = sns.FacetGrid(data, col='agent')\n",
    "    g.map_dataframe(func)\n",
    "    g.set_titles('{col_name}')\n",
    "    return g\n",
    "\n",
    "def save(name):\n",
    "    plt.tight_layout(pad=1.15)\n",
    "    plt.savefig(f'figs/{name}.pdf')"
   ]
  },
  {
   "cell_type": "code",
   "execution_count": 70,
   "metadata": {},
   "outputs": [
    {
     "name": "stderr",
     "output_type": "stream",
     "text": [
      "/usr/local/lib/miniconda3/lib/python3.6/site-packages/scipy/stats/stats.py:1713: FutureWarning: Using a non-tuple sequence for multidimensional indexing is deprecated; use `arr[tuple(seq)]` instead of `arr[seq]`. In the future this will be interpreted as an array index, `arr[np.array(seq)]`, which will result either in an error or a different result.\n",
      "  return np.add.reduce(sorted[indexer] * weights, axis=axis) / sumval\n"
     ]
    },
    {
     "data": {
      "text/plain": [
       "<matplotlib.axes._subplots.AxesSubplot at 0x14dbb1ef0>"
      ]
     },
     "execution_count": 70,
     "metadata": {},
     "output_type": "execute_result"
    },
    {
     "data": {
      "image/png": "[encoded data removed]",
      "text/plain": [
       "<Figure size 432x288 with 1 Axes>"
      ]
     },
     "metadata": {},
     "output_type": "display_data"
    }
   ],
   "source": [
    "tdf['avg_fix_len'] = np.log(tdf.rt) / tdf.n_fix\n",
    "sns.distplot(tdf.query('agent == \"Human\"').avg_fix_len)"
   ]
  },
  {
   "cell_type": "code",
   "execution_count": 96,
   "metadata": {},
   "outputs": [
    {
     "name": "stderr",
     "output_type": "stream",
     "text": [
      "/usr/local/lib/miniconda3/lib/python3.6/site-packages/scipy/stats/stats.py:1713: FutureWarning: Using a non-tuple sequence for multidimensional indexing is deprecated; use `arr[tuple(seq)]` instead of `arr[seq]`. In the future this will be interpreted as an array index, `arr[np.array(seq)]`, which will result either in an error or a different result.\n",
      "  return np.add.reduce(sorted[indexer] * weights, axis=axis) / sumval\n"
     ]
    },
    {
     "data": {
      "text/plain": [
       "<seaborn.axisgrid.FacetGrid at 0x122d75a20>"
      ]
     },
     "execution_count": 96,
     "metadata": {},
     "output_type": "execute_result"
    },
    {
     "data": {
      "image/png": "[encoded data removed]",
      "text/plain": [
       "<Figure size 432x216 with 2 Axes>"
      ]
     },
     "metadata": {},
     "output_type": "display_data"
    }
   ],
   "source": [
    "tdf['avg_fix_len'] = np.log(tdf.rt) - tdf.n_fix\n",
    "def f(data, **kwargs):\n",
    "    sns.regplot('value_mean', 'avg_fix_len', data=data, x_bins=10,)\n",
    "\n",
    "plot(f).set_axis_labels('mean(Item Values)', 'Fixation Length')"
   ]
  },
  {
   "cell_type": "code",
   "execution_count": 88,
   "metadata": {},
   "outputs": [
    {
     "name": "stderr",
     "output_type": "stream",
     "text": [
      "/usr/local/lib/miniconda3/lib/python3.6/site-packages/scipy/stats/stats.py:1713: FutureWarning: Using a non-tuple sequence for multidimensional indexing is deprecated; use `arr[tuple(seq)]` instead of `arr[seq]`. In the future this will be interpreted as an array index, `arr[np.array(seq)]`, which will result either in an error or a different result.\n",
      "  return np.add.reduce(sorted[indexer] * weights, axis=axis) / sumval\n"
     ]
    },
    {
     "data": {
      "text/plain": [
       "<seaborn.axisgrid.FacetGrid at 0x1179d9ef0>"
      ]
     },
     "execution_count": 88,
     "metadata": {},
     "output_type": "execute_result"
    },
    {
     "data": {
      "image/png": "[encoded data removed]",
      "text/plain": [
       "<Figure size 432x216 with 2 Axes>"
      ]
     },
     "metadata": {},
     "output_type": "display_data"
    }
   ],
   "source": [
    "tdf['avg_fix_len'] = tdf.rt\n",
    "def f(data, **kwargs):\n",
    "    sns.regplot('value_mean', 'avg_fix_len', data=data, x_bins=5)\n",
    "\n",
    "plot(f).set_axis_labels('mean(Item Values)', 'Fixation Length')"
   ]
  },
  {
   "cell_type": "code",
   "execution_count": 48,
   "metadata": {},
   "outputs": [
    {
     "data": {
      "text/html": [
       "<table class=\"simpletable\">\n",
       "<tr>\n",
       "       <td></td>         <th>coef</th>     <th>std err</th>      <th>t</th>      <th>P>|t|</th>  <th>[0.025</th>    <th>0.975]</th>  \n",
       "</tr>\n",
       "<tr>\n",
       "  <th>Intercept</th>  <td>    2.1876</td> <td>    0.010</td> <td>  209.852</td> <td> 0.000</td> <td>    2.167</td> <td>    2.208</td>\n",
       "</tr>\n",
       "<tr>\n",
       "  <th>value_mean</th> <td>   -0.7305</td> <td>    0.011</td> <td>  -63.643</td> <td> 0.000</td> <td>   -0.753</td> <td>   -0.708</td>\n",
       "</tr>\n",
       "<tr>\n",
       "  <th>n_step</th>     <td>    0.0689</td> <td>    0.000</td> <td>  243.337</td> <td> 0.000</td> <td>    0.068</td> <td>    0.070</td>\n",
       "</tr>\n",
       "</table>"
      ],
      "text/plain": [
       "<class 'statsmodels.iolib.table.SimpleTable'>"
      ]
     },
     "execution_count": 48,
     "metadata": {},
     "output_type": "execute_result"
    }
   ],
   "source": [
    "import statsmodels.formula.api as smf\n",
    "def ols(formula, data=mdf):\n",
    "    return smf.ols(formula, data=mdf).fit().summary().tables[1]\n",
    "\n",
    "ols('n_fix ~ value_mean + n_step')"
   ]
  },
  {
   "cell_type": "code",
   "execution_count": null,
   "metadata": {},
   "outputs": [],
   "source": [
    "sns.regplot('loss', 'rt', data=mdf, x_bins=10)"
   ]
  },
  {
   "cell_type": "code",
   "execution_count": null,
   "metadata": {},
   "outputs": [],
   "source": [
    "def f(data, **kwargs):\n",
    "    sns.regplot('loss', 'rt', data=data, scatter=False)\n",
    "    \n",
    "plot(f)"
   ]
  },
  {
   "cell_type": "markdown",
   "metadata": {},
   "source": [
    "## Choice quality"
   ]
  },
  {
   "cell_type": "code",
   "execution_count": 234,
   "metadata": {},
   "outputs": [
    {
     "name": "stderr",
     "output_type": "stream",
     "text": [
      "/usr/local/lib/miniconda3/lib/python3.6/site-packages/scipy/stats/stats.py:1713: FutureWarning: Using a non-tuple sequence for multidimensional indexing is deprecated; use `arr[tuple(seq)]` instead of `arr[seq]`. In the future this will be interpreted as an array index, `arr[np.array(seq)]`, which will result either in an error or a different result.\n",
      "  return np.add.reduce(sorted[indexer] * weights, axis=axis) / sumval\n"
     ]
    },
    {
     "data": {
      "image/png": "[encoded data removed]",
      "text/plain": [
       "<Figure size 432x216 with 2 Axes>"
      ]
     },
     "metadata": {},
     "output_type": "display_data"
    }
   ],
   "source": [
    "def f(data, **kwargs):    \n",
    "    sns.regplot('value_std', 'choice_value', data=data, x_bins=5, ci=95)\n",
    "#     plt.axhline(tdf.rt.mean(), ls='--')\n",
    "plot(f).set_axis_labels('std(Item Values)', 'Value of Chosen Item')\n",
    "save('choice_value')"
   ]
  },
  {
   "cell_type": "code",
   "execution_count": null,
   "metadata": {},
   "outputs": [],
   "source": [
    "def f(data, **kwargs):    \n",
    "    sns.kdeplot(data.value_std, data.choice_value)\n",
    "#     plt.axhline(tdf.rt.mean(), ls='--')\n",
    "plot(f).set_axis_labels('std(Item Values)', 'Reaction Time')\n",
    "save('choice_value')"
   ]
  },
  {
   "cell_type": "markdown",
   "metadata": {},
   "source": [
    "## Number of fixations"
   ]
  },
  {
   "cell_type": "code",
   "execution_count": null,
   "metadata": {},
   "outputs": [],
   "source": [
    "def n_fix(data, **kwargs):\n",
    "    vc = data.n_fix.value_counts().sort_index()\n",
    "    vc /= vc.sum()\n",
    "    vc = vc.loc[1:10]\n",
    "    vc.plot.bar(color='k')\n",
    "    plt.xlabel('Number of Fixations')\n",
    "    plt.ylabel('Proportion of Trials')\n",
    "\n",
    "plot(n_fix).set_axis_labels('Number of Fixations', 'Proportion of Trials')\n",
    "save('nfix')"
   ]
  },
  {
   "cell_type": "markdown",
   "metadata": {},
   "source": [
    "## Reaction time"
   ]
  },
  {
   "cell_type": "code",
   "execution_count": null,
   "metadata": {},
   "outputs": [],
   "source": [
    "def f(data, **kwargs):\n",
    "    sns.distplot(data.rt)\n",
    "    plt.xlim(0, )\n",
    "    # plt.axvline(tdf.rt.mean(), ls='--')\n",
    "\n",
    "plot(f).set_axis_labels('Reaction Time (s)', 'Proportion of Trials')\n",
    "plt.tight_layout(pad=1.2)\n",
    "save('rt')"
   ]
  },
  {
   "cell_type": "code",
   "execution_count": null,
   "metadata": {},
   "outputs": [],
   "source": [
    "def f(data, **kwargs):    \n",
    "    sns.regplot('value_std', 'rt', data=data, x_bins=5, ci=95)\n",
    "#     plt.axhline(tdf.rt.mean(), ls='--')\n",
    "plot(f).set_axis_labels('std(Item Values)', 'Reaction Time')\n",
    "save('value_std')"
   ]
  },
  {
   "cell_type": "code",
   "execution_count": null,
   "metadata": {},
   "outputs": [],
   "source": [
    "def f(data, **kwargs):    \n",
    "    sns.regplot('value_max', 'rt', data=data, x_bins=5, ci=95)\n",
    "#     plt.axhline(tdf.rt.mean(), ls='--')\n",
    "    \n",
    "plot(f).set_axis_labels('max(Item Values)', 'Reaction Time')\n",
    "save('value_max')"
   ]
  },
  {
   "cell_type": "code",
   "execution_count": null,
   "metadata": {},
   "outputs": [],
   "source": [
    "x = tdf.valu"
   ]
  },
  {
   "cell_type": "code",
   "execution_count": null,
   "metadata": {},
   "outputs": [],
   "source": [
    "def f(data, **kwargs):    \n",
    "    sns.regplot('value_mean', 'rt', data=data, x_bins=5, ci=95)\n",
    "#     plt.axhline(tdf.rt.mean(), ls='--')\n",
    "    \n",
    "plot(f, tdf.query('value_std < 0.5')\n",
    "    ).set_axis_labels('mean(Item Values)', 'Reaction Time')\n",
    "save('value_mean')"
   ]
  },
  {
   "cell_type": "markdown",
   "metadata": {},
   "source": [
    "## Attention"
   ]
  },
  {
   "cell_type": "code",
   "execution_count": null,
   "metadata": {
    "lines_to_next_cell": 0
   },
   "outputs": [],
   "source": [
    "from toolz import concat\n",
    "\n",
    "def focus_ranks(row):\n",
    "    ranks = np.argsort(-row['value']) + 1\n",
    "    return ranks[row['focused']-1]\n",
    "\n",
    "\n",
    "model_ranks = pd.DataFrame(list(concat(enumerate(focus_ranks(row)) for i, row in mdf.iterrows())),\n",
    "                     columns=['step', 'focus'])"
   ]
  },
  {
   "cell_type": "code",
   "execution_count": null,
   "metadata": {},
   "outputs": [],
   "source": [
    "human_ranks = pd.read_pickle('data/human_focus')\n",
    "human_ranks.focus_rank = human_ranks.focus_rank.astype(int)\n",
    "human_ranks.time /= 1000\n",
    "human_ranks['agent'] = 'Human'\n",
    "model_ranks['agent'] = 'Model'\n",
    "model_ranks['focus_rank'] = model_ranks.pop('focus')\n",
    "model_ranks['time'] = model_ranks.pop('step') * time_per_step\n",
    "ranks = pd.concat([human_ranks, model_ranks], sort=False)\n",
    "ranks.head()"
   ]
  },
  {
   "cell_type": "code",
   "execution_count": null,
   "metadata": {},
   "outputs": [],
   "source": [
    "dd = pd.melt(pd.get_dummies(human_ranks, columns=['focus_rank']), id_vars=['time', 'agent'], var_name='rank', value_name='focused')\n",
    "dd['rank'] = dd['rank'].str[-1]\n",
    "sns.lmplot('time', 'focused', hue='rank', data=dd, scatter=False, )"
   ]
  },
  {
   "cell_type": "code",
   "execution_count": null,
   "metadata": {},
   "outputs": [],
   "source": [
    "import statsmodels.formula.api as smf\n",
    "import statsmodels.api as sm\n",
    "mod = smf.glm('focused ~ time * rank', family=sm.families.Binomial(), data=dd)\n",
    "mod.fit().summary()"
   ]
  },
  {
   "cell_type": "code",
   "execution_count": null,
   "metadata": {
    "lines_to_next_cell": 2
   },
   "outputs": [],
   "source": [
    "def f(data, **kwargs):\n",
    "    n_step = data.groupby(['focus_rank', 'time']).apply(len)\n",
    "    p_step = n_step / n_step.sum(level=1)\n",
    "    p_step.unstack().T.plot(ax=plt.gca())\n",
    "    max_x = (human_ranks.time.value_counts() > 100).argmin()\n",
    "    plt.xlim(0,max_x)\n",
    "    plt.axhline(1/3, c='k', lw=1, ls='--')\n",
    "    plt.ylim(0, 0.5)\n",
    "#     plt.savefig('figs/human_fix.pdf')\n",
    "\n",
    "g = plot(f, data=ranks)\n",
    "g.set_axis_labels('Time (s)', 'Probability of Fixating')\n",
    "g.add_legend(title='Item Value Rank')\n",
    "plt.subplots_adjust(bottom=0.2, left=0.15)\n",
    "plt.savefig('figs/prob_fix.pdf')"
   ]
  },
  {
   "cell_type": "code",
   "execution_count": null,
   "metadata": {},
   "outputs": [],
   "source": [
    "n_step = ranks.groupby(['focus', 'step']).apply(len)\n",
    "p_step = n_step / n_step.sum(level=1)\n",
    "p_step.unstack().T.plot()\n",
    "plt.xlim(0,50)\n",
    "plt.ylim(0, 1)\n",
    "# plt.xlim(0, (n_step.sum(level='step') < 100).argmax())\n",
    "plt.title('Model')\n",
    "plt.xlabel('Time')\n",
    "plt.ylabel('Probability of Fixating')\n",
    "plt.axhline(1/3, c='k', lw=1, ls='--')"
   ]
  },
  {
   "cell_type": "code",
   "execution_count": null,
   "metadata": {},
   "outputs": [],
   "source": []
  }
 ],
 "metadata": {
  "anaconda-cloud": {},
  "jupytext_formats": "ipynb,nb.py",
  "kernelspec": {
   "display_name": "Python 3",
   "language": "python",
   "name": "python3"
  },
  "language_info": {
   "codemirror_mode": {
    "name": "ipython",
    "version": 3
   },
   "file_extension": ".py",
   "mimetype": "text/x-python",
   "name": "python",
   "nbconvert_exporter": "python",
   "pygments_lexer": "ipython3",
   "version": "3.6.3"
  },
  "nav_menu": {},
  "toc": {
   "navigate_menu": true,
   "number_sections": true,
   "sideBar": true,
   "threshold": 6,
   "toc_cell": false,
   "toc_section_display": "block",
   "toc_window_display": false
  }
 },
 "nbformat": 4,
 "nbformat_minor": 2
}
